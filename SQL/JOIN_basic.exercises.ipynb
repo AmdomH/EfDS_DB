{
 "cells": [
  {
   "cell_type": "markdown",
   "metadata": {},
   "source": [
    "# SQL joining (merging) tables (exercises)"
   ]
  },
  {
   "cell_type": "markdown",
   "metadata": {},
   "source": [
    "## Packages and database files needed for this project"
   ]
  },
  {
   "cell_type": "markdown",
   "metadata": {},
   "source": [
    "*Note:* This section is repeated in several notebooks in order to make them functional as independent lectures."
   ]
  },
  {
   "cell_type": "markdown",
   "metadata": {},
   "source": [
    "Import needed packages:"
   ]
  },
  {
   "cell_type": "code",
   "execution_count": null,
   "metadata": {},
   "outputs": [],
   "source": [
    "import urllib.request    # needed for download of the example database\n",
    "import shutil            # needed for unziping of the example database\n",
    "\n",
    "from sqlalchemy import * # package providing unified access to various databases"
   ]
  },
  {
   "cell_type": "markdown",
   "metadata": {},
   "source": [
    "If necessary, download the database:"
   ]
  },
  {
   "cell_type": "code",
   "execution_count": null,
   "metadata": {},
   "outputs": [],
   "source": [
    "import urllib.request    # needed for download of the example database\n",
    "import shutil            # needed for unziping of the example database\n",
    "import os                # for checking existence/removing of a file"
   ]
  },
  {
   "cell_type": "code",
   "execution_count": null,
   "metadata": {},
   "outputs": [],
   "source": [
    "if not os.path.isfile(\"chinook.db\"):\n",
    "    urllib.request.urlretrieve(\"https://www.sqlitetutorial.net/wp-content/uploads/2018/03/chinook.zip\", \"chinook.zip\")\n",
    "    shutil.unpack_archive(\"chinook.zip\")\n",
    "    os.remove(\"chinook.zip\")"
   ]
  },
  {
   "cell_type": "markdown",
   "metadata": {},
   "source": [
    "In this session we use the magic database connector. Install `ipython-sql` when necessary."
   ]
  },
  {
   "cell_type": "code",
   "execution_count": null,
   "metadata": {},
   "outputs": [],
   "source": [
    "#!pip install ipython-sql #In case the SQLite not working in Jupyter\n",
    "%load_ext sql\n",
    "%sql sqlite:///chinook.db"
   ]
  },
  {
   "cell_type": "markdown",
   "metadata": {},
   "source": [
    "Customer name, total spent, total trucks"
   ]
  },
  {
   "cell_type": "markdown",
   "metadata": {},
   "source": [
    "## Exercise: Customer invoices"
   ]
  },
  {
   "cell_type": "markdown",
   "metadata": {},
   "source": [
    "### Task"
   ]
  },
  {
   "cell_type": "markdown",
   "metadata": {},
   "source": [
    "Use `LEFT JOIN` of tables `customers` and `invoice` to build a table listing all invoices per a customer.  \n",
    "The table should have these columns:\n",
    "- `CustomerId`\n",
    "- `FirstName`\n",
    "- `LastName`\n",
    "- `InvoiceId`\n",
    "\n",
    "What would be the primary key for this table?"
   ]
  },
  {
   "cell_type": "markdown",
   "metadata": {},
   "source": [
    "### Solution"
   ]
  },
  {
   "cell_type": "code",
   "execution_count": null,
   "metadata": {},
   "outputs": [],
   "source": [
    "%%sql\n",
    "SELECT CustomerId, FirstName, LastName, InvoiceId FROM customers\n",
    "  LEFT JOIN invoices USING (CustomerId)\n",
    "  LIMIT 10"
   ]
  },
  {
   "cell_type": "markdown",
   "metadata": {},
   "source": [
    "## Exercise: Customers without invoices?"
   ]
  },
  {
   "cell_type": "markdown",
   "metadata": {},
   "source": [
    "### Task"
   ]
  },
  {
   "cell_type": "markdown",
   "metadata": {},
   "source": [
    "Would customers without any invoice be visible in the result table produced above?\n",
    "\n",
    "Check whether such customers exist there."
   ]
  },
  {
   "cell_type": "markdown",
   "metadata": {},
   "source": [
    "### Solution"
   ]
  },
  {
   "cell_type": "markdown",
   "metadata": {},
   "source": [
    "`LEFT JOIN` with `customers` on the left side produces all customers in the output.  \n",
    "Customers without any invoice would have `NULL` value in the `InvoiceId` field."
   ]
  },
  {
   "cell_type": "code",
   "execution_count": null,
   "metadata": {},
   "outputs": [],
   "source": [
    "%%sql\n",
    "SELECT CustomerId, FirstName, LastName, InvoiceId FROM customers\n",
    "  LEFT JOIN invoices USING (CustomerId)\n",
    "  WHERE InvoiceId IS NULL "
   ]
  },
  {
   "cell_type": "markdown",
   "metadata": {},
   "source": [
    "## Exercise: Double join"
   ]
  },
  {
   "cell_type": "markdown",
   "metadata": {},
   "source": [
    "### Task"
   ]
  },
  {
   "cell_type": "markdown",
   "metadata": {},
   "source": [
    "*In short:* For each customer we want to know totals: how many tracks were bought and for what total price.\n",
    "\n",
    "Build a temporary table `customer_summary` with the following columns:\n",
    "The table should have these columns:\n",
    "- `CustomerId` based on `customers`.\n",
    "- `TotalTracksNum` - total number of tracks bought by the customer.\n",
    "- `TotalPrice` - total sum of prices payed by the customer.\n",
    "\n",
    "Use tables `customers`, `invoice` and `invoice_items`."
   ]
  },
  {
   "cell_type": "markdown",
   "metadata": {},
   "source": [
    "### Solution"
   ]
  },
  {
   "cell_type": "markdown",
   "metadata": {},
   "source": [
    "Let's first take a solution of the first exercise - the table contains all customers and invoices corresponding to them.  \n",
    "We want to extend this table with columns containing the totals."
   ]
  },
  {
   "cell_type": "code",
   "execution_count": null,
   "metadata": {},
   "outputs": [],
   "source": [
    "%%sql\n",
    "SELECT CustomerId, InvoiceId FROM customers\n",
    "  LEFT JOIN invoices USING (CustomerId)\n",
    "  LIMIT 5"
   ]
  },
  {
   "cell_type": "markdown",
   "metadata": {},
   "source": [
    "Let's generate totals per invoice based on `invoice_items` .  \n",
    "This table will have a single row for each invoice:"
   ]
  },
  {
   "cell_type": "code",
   "execution_count": null,
   "metadata": {},
   "outputs": [],
   "source": [
    "%%sql\n",
    "SELECT \n",
    "    InvoiceId, \n",
    "    SUM(Quantity) AS InvoiceTracksNum, \n",
    "    SUM(UnitPrice) AS InvoiceTotalPrice \n",
    "  FROM invoice_items\n",
    "  GROUP BY InvoiceId\n",
    "  LIMIT 5"
   ]
  },
  {
   "cell_type": "markdown",
   "metadata": {},
   "source": [
    "Now, let's apply `LEFT JOIN` to the above two tables (adjusting properly the columns to be selected). Moreover, let's store the result in a temporary table `invoice_summary`:"
   ]
  },
  {
   "cell_type": "code",
   "execution_count": null,
   "metadata": {},
   "outputs": [],
   "source": [
    "%%sql\n",
    "DROP TABLE IF EXISTS invoice_summary;\n",
    "CREATE TEMP TABLE invoice_summary AS\n",
    "    SELECT CustomerId, InvoiceId, InvoiceTracksNum, InvoiceTotalPrice FROM customers\n",
    "      LEFT JOIN invoices USING (CustomerId)\n",
    "      LEFT JOIN (\n",
    "        SELECT \n",
    "            InvoiceId, \n",
    "            SUM(Quantity) AS InvoiceTracksNum, \n",
    "            SUM(UnitPrice) AS InvoiceTotalPrice \n",
    "          FROM invoice_items\n",
    "          GROUP BY InvoiceId\n",
    "      ) USING (InvoiceId);\n",
    "\n",
    "SELECT * FROM invoice_summary LIMIT 5"
   ]
  },
  {
   "cell_type": "markdown",
   "metadata": {},
   "source": [
    "Finally, let's aggregate per customer the data and store the result in the final temporary table:"
   ]
  },
  {
   "cell_type": "code",
   "execution_count": null,
   "metadata": {},
   "outputs": [],
   "source": [
    "%%sql\n",
    "DROP TABLE IF EXISTS customer_summary;\n",
    "CREATE TEMP TABLE customer_summary AS\n",
    "    SELECT \n",
    "        CustomerId,\n",
    "        SUM(InvoiceTotalPrice) AS TotalPrice,\n",
    "        SUM(InvoiceTracksNum) AS TotalTracksNum\n",
    "      FROM invoice_summary\n",
    "      GROUP BY CustomerId;\n",
    "\n",
    "SELECT * FROM customer_summary LIMIT 5"
   ]
  }
 ],
 "metadata": {
  "kernelspec": {
   "display_name": "Python [conda env:sqlcourse2] *",
   "language": "python",
   "name": "conda-env-sqlcourse2-py"
  },
  "language_info": {
   "codemirror_mode": {
    "name": "ipython",
    "version": 3
   },
   "file_extension": ".py",
   "mimetype": "text/x-python",
   "name": "python",
   "nbconvert_exporter": "python",
   "pygments_lexer": "ipython3",
   "version": "3.8.5"
  }
 },
 "nbformat": 4,
 "nbformat_minor": 5
}
